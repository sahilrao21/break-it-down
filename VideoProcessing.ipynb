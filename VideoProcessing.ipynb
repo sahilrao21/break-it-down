{
 "cells": [
  {
   "cell_type": "code",
   "execution_count": 1,
   "metadata": {},
   "outputs": [],
   "source": [
    "import cv2\n",
    "from moviepy.video.io.ffmpeg_tools import ffmpeg_extract_subclip"
   ]
  },
  {
   "cell_type": "code",
   "execution_count": 2,
   "metadata": {},
   "outputs": [],
   "source": [
    "# import numpy as np\n",
    "# import cv2\n",
    "\n",
    "# cap = cv2.VideoCapture(\"short_dance_clip.mp4\")\n",
    "\n",
    "# # Define the codec and create VideoWriter object\n",
    "# #fourcc = cv2.cv.CV_FOURCC(*'DIVX')\n",
    "# #out = cv2.VideoWriter('output.avi',fourcc, 20.0, (640,480))\n",
    "# out = cv2.VideoWriter('output.avi', 1, 20.0, (640,480))\n",
    "\n",
    "# while(cap.isOpened()):\n",
    "#     ret, frame = cap.read()\n",
    "#     if ret==True:\n",
    "#         frame = cv2.flip(frame,0)\n",
    "\n",
    "#         # write the flipped frame\n",
    "#         out.write(frame)\n",
    "\n",
    "#         cv2.imshow('frame',frame)\n",
    "#         if cv2.waitKey(1) & 0xFF == ord('q'):\n",
    "#             break\n",
    "#     else:\n",
    "#         break\n",
    "\n",
    "# # Release everything if job is finished\n",
    "# cap.release()\n",
    "# out.release()\n",
    "# cv2.destroyAllWindows()"
   ]
  },
  {
   "cell_type": "code",
   "execution_count": 2,
   "metadata": {},
   "outputs": [],
   "source": [
    "def frame_time_delay(video, delay):\n",
    "    vc = cv2.VideoCapture(video)\n",
    "    output = cv2.VideoWriter('frame_delay_%d_ms.mp4' % delay, -1, 20.0, (640,480))\n",
    "    \n",
    "    while vc.isOpened():\n",
    "        # Read video capture\n",
    "        ret, frame = vc.read()\n",
    "        # Display each frame\n",
    "        cv2.imshow(\"\", frame)\n",
    "        # show one frame at a time\n",
    "        cv2.waitKey(delay)\n",
    "    \n",
    "    vc.release()\n",
    "    cv2.destroyAllWindows()"
   ]
  },
  {
   "cell_type": "code",
   "execution_count": 6,
   "metadata": {},
   "outputs": [],
   "source": [
    "try:\n",
    "    frame_time_delay(\"short_dance_clip.mp4\", 500)\n",
    "except cv2.error:\n",
    "    pass"
   ]
  },
  {
   "cell_type": "code",
   "execution_count": 3,
   "metadata": {},
   "outputs": [],
   "source": [
    "def loop_video(video):\n",
    "    try:\n",
    "        vc = cv2.VideoCapture(video)\n",
    "        while vc.isOpened():\n",
    "            # Read video capture\n",
    "            ret, frame = vc.read()\n",
    "            # Display each frame\n",
    "            cv2.imshow(\"\", frame)\n",
    "            cv2.waitKey(1)\n",
    "    except cv2.error:\n",
    "        loop_video(video)"
   ]
  },
  {
   "cell_type": "code",
   "execution_count": null,
   "metadata": {},
   "outputs": [],
   "source": [
    "loop_video(\"short_dance_clip.mp4\")"
   ]
  },
  {
   "cell_type": "code",
   "execution_count": 4,
   "metadata": {},
   "outputs": [],
   "source": [
    "def loop_video_delayed(video, delay):\n",
    "    try:\n",
    "        vc = cv2.VideoCapture(video)\n",
    "        while vc.isOpened():\n",
    "            # Read video capture\n",
    "            ret, frame = vc.read()\n",
    "            # Display each frame\n",
    "            cv2.imshow(\"video\", frame)\n",
    "            cv2.waitKey(delay)\n",
    "    except cv2.error:\n",
    "        loop_video(video)"
   ]
  },
  {
   "cell_type": "code",
   "execution_count": null,
   "metadata": {},
   "outputs": [],
   "source": [
    "try:\n",
    "    loop_video_delayed(\"short_dance_clip.mp4\", 50)\n",
    "except cv2.error:\n",
    "    pass"
   ]
  },
  {
   "cell_type": "code",
   "execution_count": 5,
   "metadata": {},
   "outputs": [],
   "source": [
    "def crop_clip(video, start_time, end_time, new_vid = \"new_clip.mp4\"):\n",
    "    ffmpeg_extract_subclip(video, 0, 5, targetname = new_vid)\n",
    "    return new_vid"
   ]
  },
  {
   "cell_type": "code",
   "execution_count": null,
   "metadata": {},
   "outputs": [
    {
     "name": "stdout",
     "output_type": "stream",
     "text": [
      "Moviepy - Running:\n",
      ">>> \"+ \" \".join(cmd)\n",
      "Moviepy - Command successful\n"
     ]
    }
   ],
   "source": [
    "loop_video(crop_clip(\"short_dance_clip.mp4\", 4, 8))"
   ]
  },
  {
   "cell_type": "code",
   "execution_count": null,
   "metadata": {},
   "outputs": [],
   "source": [
    "# COMPLETED:\n",
    "# loop video\n",
    "# delayed (ms) between frames\n",
    "# crop a clip and play that (loop if you want)\n",
    "\n",
    "# TO DO:\n",
    "# frames per second"
   ]
  },
  {
   "cell_type": "code",
   "execution_count": null,
   "metadata": {},
   "outputs": [],
   "source": [
    "# def frames_per_sec(video, delay):\n",
    "#     vc = cv2.VideoCapture(video)\n",
    "#     if vc.isOpened():\n",
    "#         # Read video capture\n",
    "#         ret, frame = vc.read()\n",
    "#         # Display each frame\n",
    "#         cv2.imshow(\"video\", frame)\n",
    "#         cv2.waitKey(delay)"
   ]
  }
 ],
 "metadata": {
  "kernelspec": {
   "display_name": "Python 3",
   "language": "python",
   "name": "python3"
  },
  "language_info": {
   "codemirror_mode": {
    "name": "ipython",
    "version": 3
   },
   "file_extension": ".py",
   "mimetype": "text/x-python",
   "name": "python",
   "nbconvert_exporter": "python",
   "pygments_lexer": "ipython3",
   "version": "3.7.4"
  }
 },
 "nbformat": 4,
 "nbformat_minor": 2
}
